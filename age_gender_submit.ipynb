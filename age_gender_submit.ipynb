{
  "cells": [
    {
      "cell_type": "markdown",
      "metadata": {
        "id": "-GRYwLR3vqLz"
      },
      "source": [
        "# Age Estimation and Gender Classification\n",
        "\n",
        "In this assignment, you will train CNN models to estimate a person's age and predict their gender based on face images. Please read carefully all the instructions before you start to write your code.\n",
        "\n",
        "**Your Tasks**\n",
        "\n",
        "You are supposed to train two CNN models.\n",
        "- Model A: Train a CNN model from scratch, following a few restrictions. Save this model as `age_gender_A.keras`\n",
        "- Model B: Fine-tune a pre-trained model to perform the same task. Save this model as `age_gender_B.keras`\n",
        "\n",
        "**Dataset**\n",
        "\n",
        "Your models will be trained and validated on a folder `train_val/` containing 5,000 labeled face images (size: 128 x 128), originated from the UTKFace dataset. During the assessment phase, your code will be tested on unseen test data.\n",
        "\n",
        "**Performance Metric**\n",
        "\n",
        "The evaluation of your models on the test set will be based on the following metrics:\n",
        "- age estimation: - Mean Absolute Error (MAE)\n",
        "- gender prediction: accuracy\n",
        "\n",
        "**GPU Time Management**\n",
        "\n",
        "Please use the available GPU time wisely, as there are some limitations on free GPU usage. It is said the users can use up to 12 hours in row in Google Colab. But many people found they reached its limit far less than 12 hours. To minimize the risk of reaching the limit, consider the following suggestions:\n",
        "1. Ensure you have a stable internet connection.\n",
        "2. Carefully validate your hyperparameters before starting the training process.\n",
        "3. Based on past experience, each model should be trained in less than 2 hours. If the training time is significantly longer, you may need to adjust your model architecture.\n"
      ]
    },
    {
      "cell_type": "markdown",
      "metadata": {
        "id": "vOAXA2CdQ8Pb"
      },
      "source": [
        "## Setting Up: Mount the google drive\n",
        "Mount your google drive to the notebook. Also don't forget to **enable GPU** before your training.\n"
      ]
    },
    {
      "cell_type": "code",
      "execution_count": null,
      "metadata": {
        "id": "XCwBWDsMQwyb"
      },
      "outputs": [],
      "source": [
        "#\n",
        "# Add your code here\n",
        "#"
      ]
    },
    {
      "cell_type": "markdown",
      "metadata": {
        "id": "lBRVYYhRRINA"
      },
      "source": [
        "## Visualize a few photos\n",
        "It's always beneficial to thoroughly understand your data before beginning the training process. To get a first-hand impression of the dataset, please display a minimum of 20 images from the `train_val/` folder, along with their corresponding age and gender labels. This will help you gain initial insights into the dataset."
      ]
    },
    {
      "cell_type": "code",
      "execution_count": 1,
      "metadata": {
        "id": "3zA1kSeoReXJ",
        "outputId": "e06c445a-40af-45a8-b665-5cf0bb2aa15a",
        "colab": {
          "base_uri": "https://localhost:8080/",
          "height": 216
        }
      },
      "outputs": [
        {
          "output_type": "error",
          "ename": "FileNotFoundError",
          "evalue": "[Errno 2] No such file or directory: 'train_val/'",
          "traceback": [
            "\u001b[0;31m---------------------------------------------------------------------------\u001b[0m",
            "\u001b[0;31mFileNotFoundError\u001b[0m                         Traceback (most recent call last)",
            "\u001b[0;32m<ipython-input-1-8e825b23fc9c>\u001b[0m in \u001b[0;36m<cell line: 0>\u001b[0;34m()\u001b[0m\n\u001b[1;32m      9\u001b[0m \u001b[0;34m\u001b[0m\u001b[0m\n\u001b[1;32m     10\u001b[0m \u001b[0;31m# Get all image files from the dataset directory\u001b[0m\u001b[0;34m\u001b[0m\u001b[0;34m\u001b[0m\u001b[0m\n\u001b[0;32m---> 11\u001b[0;31m \u001b[0mimage_files\u001b[0m \u001b[0;34m=\u001b[0m \u001b[0;34m[\u001b[0m\u001b[0mf\u001b[0m \u001b[0;32mfor\u001b[0m \u001b[0mf\u001b[0m \u001b[0;32min\u001b[0m \u001b[0mos\u001b[0m\u001b[0;34m.\u001b[0m\u001b[0mlistdir\u001b[0m\u001b[0;34m(\u001b[0m\u001b[0mdataset_path\u001b[0m\u001b[0;34m)\u001b[0m \u001b[0;32mif\u001b[0m \u001b[0mf\u001b[0m\u001b[0;34m.\u001b[0m\u001b[0mendswith\u001b[0m\u001b[0;34m(\u001b[0m\u001b[0;34m(\u001b[0m\u001b[0;34m'.jpg'\u001b[0m\u001b[0;34m,\u001b[0m \u001b[0;34m'.png'\u001b[0m\u001b[0;34m,\u001b[0m \u001b[0;34m'.jpeg'\u001b[0m\u001b[0;34m)\u001b[0m\u001b[0;34m)\u001b[0m\u001b[0;34m]\u001b[0m\u001b[0;34m\u001b[0m\u001b[0;34m\u001b[0m\u001b[0m\n\u001b[0m\u001b[1;32m     12\u001b[0m \u001b[0;34m\u001b[0m\u001b[0m\n\u001b[1;32m     13\u001b[0m \u001b[0;31m# Randomly select 20 images for visualization\u001b[0m\u001b[0;34m\u001b[0m\u001b[0;34m\u001b[0m\u001b[0m\n",
            "\u001b[0;31mFileNotFoundError\u001b[0m: [Errno 2] No such file or directory: 'train_val/'"
          ]
        }
      ],
      "source": [
        "import os\n",
        "import numpy as np\n",
        "import matplotlib.pyplot as plt\n",
        "import cv2\n",
        "import random\n",
        "\n",
        "# Define dataset path (update if necessary)\n",
        "dataset_path = \"train_val/\"\n",
        "\n",
        "# Get all image files from the dataset directory\n",
        "image_files = [f for f in os.listdir(dataset_path) if f.endswith(('.jpg', '.png', '.jpeg'))]\n",
        "\n",
        "# Randomly select 20 images for visualization\n",
        "random.shuffle(image_files)\n",
        "selected_images = image_files[:20]\n",
        "\n",
        "def extract_label(filename):\n",
        "    \"\"\"Extract age and gender from filename using the correct format.\"\"\"\n",
        "    try:\n",
        "        name = filename.split('_')  # Split filename by underscore (_)\n",
        "        age = int(name[0])  # First part is age\n",
        "        gender = \"Male\" if name[1] == \"0\" else \"Female\"  # Second part is gender (0 = Male, 1 = Female)\n",
        "        return age, gender\n",
        "    except:\n",
        "        return None, None  # Handle unexpected filename formats\n",
        "\n",
        "# Plot 20 images in a 4x5 grid\n",
        "fig, axes = plt.subplots(4, 5, figsize=(15, 12))\n",
        "\n",
        "for i, ax in enumerate(axes.flat):\n",
        "    if i < len(selected_images):\n",
        "        img_path = os.path.join(dataset_path, selected_images[i])\n",
        "        img = cv2.imread(img_path)  # Read image\n",
        "        img = cv2.cvtColor(img, cv2.COLOR_BGR2RGB)  # Convert BGR to RGB\n",
        "\n",
        "        # Extract labels from filename\n",
        "        age, gender = extract_label(selected_images[i])\n",
        "        label = f\"Age: {age}, Gender: {gender}\" if age is not None else \"Unknown\"\n",
        "\n",
        "        # Display image\n",
        "        ax.imshow(img)\n",
        "        ax.set_title(label, fontsize=10)\n",
        "        ax.axis('off')\n",
        "\n",
        "plt.tight_layout()\n",
        "plt.show()\n",
        "\n"
      ]
    },
    {
      "cell_type": "markdown",
      "metadata": {
        "id": "zp_QcvuTRUqq"
      },
      "source": [
        "## Step 1: Data Pre-Processing\n",
        "In this step, you will perform necessary pre-processing tasks before feeding the data into a CNN. The pre-processing includes:\n",
        "\n",
        "1. Splitting the data into training and validation sets.\n",
        "2. Loading image data, gender labels and age values, and rescaling pixel values (originally integers between 0 and 255) to the range [0, 1].\n",
        "3. Data augmentation\n",
        "\n",
        "The first two pre-processing steps have already been completed for you. Your task in this step is limited to:\n",
        "\n",
        "3. Data augmentation\n",
        "\n",
        "Please note:\n",
        "\n",
        "- Do not modify any part of the provided code except the section marked with ########.\n",
        "- Do not rescale the age values to the range [0,1], as the original values are used during the testing stage. Rescaling them would significantly impact testing performance.\n",
        "\n"
      ]
    },
    {
      "cell_type": "code",
      "execution_count": null,
      "metadata": {
        "id": "mGOkUt8_Uu8q",
        "outputId": "1bd1fdb6-9abc-4c57-828b-c8cfc2a34a06"
      },
      "outputs": [
        {
          "name": "stdout",
          "output_type": "stream",
          "text": [
            "Number of images for training: 4000\n",
            "Number of images for validation: 1000\n",
            "load all image data, age and gender labels...\n",
            "load all image data, age and gender labels...\n"
          ]
        }
      ],
      "source": [
        "import os\n",
        "import random\n",
        "import cv2\n",
        "import numpy as np\n",
        "\n",
        "folder_train_val = \"train_val\"\n",
        "all_image_files = [file for file in os.listdir(folder_train_val) if file.lower().endswith(('.jpg'))]\n",
        "\n",
        "# Shuffle the dataset to ensure random distribution\n",
        "random.seed(0)  # Ensure reproducibility\n",
        "random.shuffle(all_image_files)\n",
        "\n",
        "# Calculate the number of images for each set\n",
        "n_train_val = len(all_image_files)\n",
        "train_end = int(n_train_val * 0.8)\n",
        "\n",
        "# Split the dataset\n",
        "train_image_files = all_image_files[:train_end]\n",
        "val_image_files = all_image_files[train_end:]\n",
        "print(f\"Number of images for training: {len(train_image_files)}\")\n",
        "print(f\"Number of images for validation: {len(val_image_files)}\")\n",
        "\n",
        "def load_imgs_lables(dataset_path,filenames):\n",
        "  print('load all image data, age and gender labels...')\n",
        "  images = []\n",
        "  age_labels = []\n",
        "  gender_labels = []\n",
        "  for current_file_name in filenames:\n",
        "    img = cv2.imread(os.path.join(dataset_path, current_file_name))\n",
        "    img = img / 255.0  # Normalize pixel values\n",
        "    labels = current_file_name.split('_')\n",
        "    age_label = int(labels[0])\n",
        "    gender_label = int(labels[1])\n",
        "    age_labels.append(age_label)\n",
        "    gender_labels.append(gender_label)\n",
        "    images.append(img)\n",
        "\n",
        "  # Convert to NumPy arrays\n",
        "  images = np.array(images)\n",
        "  age_labels = np.array(age_labels)\n",
        "  gender_labels = np.array(gender_labels)\n",
        "  return images, age_labels, gender_labels\n",
        "\n",
        "# load data from the training set\n",
        "train_images, train_age, train_gender = load_imgs_lables(folder_train_val,train_image_files)\n",
        "\n",
        "# load data from the validation set\n",
        "val_images, val_age, val_gender = load_imgs_lables(folder_train_val,val_image_files)\n",
        "\n",
        "#\n",
        "######### Add your code for data augmentation here #########\n",
        "#"
      ]
    },
    {
      "cell_type": "markdown",
      "metadata": {
        "id": "EaH0dLz-UzpT"
      },
      "source": [
        "## STEP2A: Build your own CNN network\n",
        "In this step, you will define your own CNN model for identifying gender and predicting age. Although there are two tasks, you only need to build one CNN model with two outputs. You may refer to online resources for solutions.\n",
        "\n",
        "Here are the key requirements and restrictions for your network:\n",
        "1.\tThe input size must be 128 x 128 x 3, which means you **should not resize** the original images. This is because my test code relies on this particular input size. Any other size will cause problem in the testing stage.\n",
        "2.  Please treat the gender classification as a binary problem, i.e., **the output layer for the gender branch has only 1 unit**, instead of 2. Although it is technically correct to treat gender classification as a multi-class problem with 2 classes, i.e., 2 units in the last layer, the test code only supports a 1-unit last-layer configuration for the gender branch.\n",
        "3.\tThe size of feature maps being fed to the first fully connected layer must be less than 10 x 10, while there is no number limitation about the depth.\n",
        "4.\tIncorporate techniques to prevent overfitting as appropriate.\n",
        "\n",
        "At the end of your implementation, use `modelA.summary()` to display the model architecture and use `plot_model()` to visualize the architecture."
      ]
    },
    {
      "cell_type": "code",
      "execution_count": null,
      "metadata": {
        "id": "atYurdRBU64d",
        "outputId": "156e5c97-3932-43c9-9616-b5bac72244a7"
      },
      "outputs": [
        {
          "ename": "NameError",
          "evalue": "name 'modelA' is not defined",
          "output_type": "error",
          "traceback": [
            "\u001b[0;31m---------------------------------------------------------------------------\u001b[0m",
            "\u001b[0;31mNameError\u001b[0m                                 Traceback (most recent call last)",
            "\u001b[0;32m/var/folders/kx/50f57jdj56n8n6rx86c4nm2h0000gn/T/ipykernel_39620/3118517326.py\u001b[0m in \u001b[0;36m<module>\u001b[0;34m\u001b[0m\n\u001b[1;32m      3\u001b[0m \u001b[0;31m#\u001b[0m\u001b[0;34m\u001b[0m\u001b[0;34m\u001b[0m\u001b[0m\n\u001b[1;32m      4\u001b[0m \u001b[0;34m\u001b[0m\u001b[0m\n\u001b[0;32m----> 5\u001b[0;31m \u001b[0mmodelA\u001b[0m\u001b[0;34m.\u001b[0m\u001b[0msummary\u001b[0m\u001b[0;34m(\u001b[0m\u001b[0;34m)\u001b[0m\u001b[0;34m\u001b[0m\u001b[0;34m\u001b[0m\u001b[0m\n\u001b[0m\u001b[1;32m      6\u001b[0m \u001b[0;32mfrom\u001b[0m \u001b[0mtensorflow\u001b[0m\u001b[0;34m.\u001b[0m\u001b[0mkeras\u001b[0m\u001b[0;34m.\u001b[0m\u001b[0mutils\u001b[0m \u001b[0;32mimport\u001b[0m \u001b[0mplot_model\u001b[0m\u001b[0;34m\u001b[0m\u001b[0;34m\u001b[0m\u001b[0m\n\u001b[1;32m      7\u001b[0m \u001b[0mplot_model\u001b[0m\u001b[0;34m(\u001b[0m\u001b[0mmodelA\u001b[0m\u001b[0;34m,\u001b[0m \u001b[0mshow_shapes\u001b[0m\u001b[0;34m=\u001b[0m\u001b[0;32mTrue\u001b[0m\u001b[0;34m,\u001b[0m\u001b[0mdpi\u001b[0m\u001b[0;34m=\u001b[0m\u001b[0;36m100\u001b[0m\u001b[0;34m)\u001b[0m\u001b[0;34m\u001b[0m\u001b[0;34m\u001b[0m\u001b[0m\n",
            "\u001b[0;31mNameError\u001b[0m: name 'modelA' is not defined"
          ]
        }
      ],
      "source": [
        "#\n",
        "# Add your code here\n",
        "#\n",
        "\n",
        "modelA.summary()\n",
        "from tensorflow.keras.utils import plot_model\n",
        "plot_model(modelA, show_shapes=True,dpi=100)"
      ]
    },
    {
      "cell_type": "markdown",
      "metadata": {
        "id": "YvxCap5OVNEG"
      },
      "source": [
        "## STEP3A: Compile and train your model\n",
        "Compile and train your model here.\n",
        "Save your model by `modelA.save(your_model_folder+\"age_gender_A.keras\")` after training.\n",
        "\n",
        "**DON'T use any other name for your model file.** This is because my test code relies on this particular model name. Any other file name will cause problem in the testing stage.\n",
        "\n",
        "**Save the model with `save()`** to save the entire model (including a model's architecture, weights, and training configuration) as a `.keras` zip archive. Don't save it with `save_weights()`.\n"
      ]
    },
    {
      "cell_type": "code",
      "execution_count": null,
      "metadata": {
        "id": "A7rWAbMoVPMw"
      },
      "outputs": [],
      "source": [
        "#\n",
        "# Add your code here\n",
        "#\n",
        "modelA.save(folder_models+'age_gender_A.keras')"
      ]
    },
    {
      "cell_type": "markdown",
      "metadata": {
        "id": "qX9woxxCVPj-"
      },
      "source": [
        "## STEP4A: Draw the learning curves\n",
        "Draw four learning curve figures for model A as follows.\n",
        "1.\tThe loss of the gender classification over the training and validation set\n",
        "2.\tThe accuracy of the gender classification over the training and validation set\n",
        "3.\tThe loss of the age estimation over the training and validation set\n",
        "4.\tThe MAE of the age estimation over the training and validation set"
      ]
    },
    {
      "cell_type": "code",
      "execution_count": null,
      "metadata": {
        "id": "1pl5bSA5VT3Y"
      },
      "outputs": [],
      "source": [
        "#\n",
        "# Add your code here\n",
        "#\n"
      ]
    },
    {
      "cell_type": "markdown",
      "metadata": {
        "id": "3fCO79ViVUkX"
      },
      "source": [
        "## STEP2B: Build a CNN network based on a pre-trained model\n",
        "Choose an existing CNN architecture pre-trained on ImageNet and fine-tune it on this dataset.\n",
        "\n",
        "As with Model A, **do not resize the input image size**.\n",
        "Ensure that the output layer for **the gender branch has only 1 unit**.\n",
        "\n",
        "At the end of the cell, use `modelB.summary()` to display the model architecture and use `plot_model()` to visualize the architecture.\n"
      ]
    },
    {
      "cell_type": "code",
      "execution_count": null,
      "metadata": {
        "id": "0twFrc4jVi2E"
      },
      "outputs": [],
      "source": [
        "#\n",
        "# Add your code here\n",
        "#\n",
        "\n",
        "modelB.summary()\n",
        "from tensorflow.keras.utils import plot_model\n",
        "plot_model(modelB, show_shapes=True,dpi=100)"
      ]
    },
    {
      "cell_type": "markdown",
      "metadata": {
        "id": "vsqWfCAzVjPk"
      },
      "source": [
        "## STEP3B: Compile and train your model\n",
        "Compile and train your model here.\n",
        "Save your model to `age_gender_B.keras` after training.\n",
        "\n",
        "**DON'T use any other name for your model file.** This is because my test code relies on this particular model name. Any other file name will cause problem in the testing stage.\n",
        "\n",
        "**Also, save the model with `save()` instead of `save_weights()`.**\n"
      ]
    },
    {
      "cell_type": "code",
      "execution_count": null,
      "metadata": {
        "id": "IQlYE1aWVmml"
      },
      "outputs": [],
      "source": [
        "#\n",
        "# Add your code here\n",
        "#\n",
        "\n",
        "modelB.save(your_model_folder+\"age_gender_B.keras\")"
      ]
    },
    {
      "cell_type": "markdown",
      "metadata": {
        "id": "sdRlobSlVnBi"
      },
      "source": [
        "## STEP4B: Draw the learning curves\n",
        "Draw four learning curve figures for model B as follows.\n",
        "1. The loss of the gender classification over the training and validation set\n",
        "2. The accuracy of the gender classification over the training and validation set\n",
        "3. The loss of the age estimation over the training and validation set\n",
        "4. The MAE of the age estimation over the training and validation set"
      ]
    },
    {
      "cell_type": "code",
      "execution_count": null,
      "metadata": {
        "id": "6T_uTOQkVrAB"
      },
      "outputs": [],
      "source": [
        "#\n",
        "# Add your code here\n",
        "#\n"
      ]
    },
    {
      "cell_type": "markdown",
      "metadata": {
        "id": "67UhgpceVrv2"
      },
      "source": [
        "## STEP5: Evaluate the model on the test set\n",
        "I will load your two models for testing. The test set will not be available before your submission.\n",
        "\n",
        "The metrics for measuring the performance on the test set are:\n",
        "- age estimation: MAE (Mean Absolute Error)\n",
        "- gender classification: accuracy\n"
      ]
    },
    {
      "cell_type": "code",
      "execution_count": null,
      "metadata": {
        "id": "5rh5DlraV1aj"
      },
      "outputs": [],
      "source": [
        "#\n",
        "# Don't add code in this cell when submitting this file\n",
        "#"
      ]
    }
  ],
  "metadata": {
    "accelerator": "GPU",
    "colab": {
      "gpuType": "T4",
      "provenance": []
    },
    "kernelspec": {
      "display_name": "base",
      "language": "python",
      "name": "python3"
    },
    "language_info": {
      "codemirror_mode": {
        "name": "ipython",
        "version": 3
      },
      "file_extension": ".py",
      "mimetype": "text/x-python",
      "name": "python",
      "nbconvert_exporter": "python",
      "pygments_lexer": "ipython3",
      "version": "3.9.13"
    }
  },
  "nbformat": 4,
  "nbformat_minor": 0
}